{
  "nbformat": 4,
  "nbformat_minor": 0,
  "metadata": {
    "colab": {
      "provenance": []
    },
    "kernelspec": {
      "name": "python3",
      "display_name": "Python 3"
    },
    "language_info": {
      "name": "python"
    }
  },
  "cells": [
    {
      "cell_type": "code",
      "execution_count": null,
      "metadata": {
        "id": "3bUGMOx-Am4p"
      },
      "outputs": [],
      "source": [
        "#Importing key libraries, and reading data\n",
        "import pandas as pd\n",
        "import numpy as np\n",
        "\n",
        "np.random.seed(2409)\n",
        "\n",
        "import keras\n",
        "from keras.models import Model\n",
        "from keras.layers import *\n",
        "from keras import optimizers"
      ]
    },
    {
      "cell_type": "code",
      "source": [
        "df_train = pd.read_csv('/content/drive/MyDrive/Colab Notebooks/Digit MNIST/train.csv')\n",
        "df_test = pd.read_csv('/content/drive/MyDrive/Colab Notebooks/Digit MNIST/test.csv')"
      ],
      "metadata": {
        "id": "BA5CvLSxBBKJ"
      },
      "execution_count": null,
      "outputs": []
    },
    {
      "cell_type": "code",
      "source": [
        "df_train.head() # 784 features, 1 label"
      ],
      "metadata": {
        "colab": {
          "base_uri": "https://localhost:8080/",
          "height": 279
        },
        "id": "fIr46NDaBgCK",
        "outputId": "adc8cb8d-e5ba-4d41-a2a7-f04bb875c4df"
      },
      "execution_count": null,
      "outputs": [
        {
          "output_type": "execute_result",
          "data": {
            "text/plain": [
              "   label  pixel0  pixel1  pixel2  pixel3  pixel4  pixel5  pixel6  pixel7  \\\n",
              "0      1       0       0       0       0       0       0       0       0   \n",
              "1      0       0       0       0       0       0       0       0       0   \n",
              "2      1       0       0       0       0       0       0       0       0   \n",
              "3      4       0       0       0       0       0       0       0       0   \n",
              "4      0       0       0       0       0       0       0       0       0   \n",
              "\n",
              "   pixel8  ...  pixel774  pixel775  pixel776  pixel777  pixel778  pixel779  \\\n",
              "0       0  ...         0         0         0         0         0         0   \n",
              "1       0  ...         0         0         0         0         0         0   \n",
              "2       0  ...         0         0         0         0         0         0   \n",
              "3       0  ...         0         0         0         0         0         0   \n",
              "4       0  ...         0         0         0         0         0         0   \n",
              "\n",
              "   pixel780  pixel781  pixel782  pixel783  \n",
              "0         0         0         0         0  \n",
              "1         0         0         0         0  \n",
              "2         0         0         0         0  \n",
              "3         0         0         0         0  \n",
              "4         0         0         0         0  \n",
              "\n",
              "[5 rows x 785 columns]"
            ],
            "text/html": [
              "\n",
              "  <div id=\"df-9b7ae1dd-fa22-46cb-bb3d-c9056fb8d326\">\n",
              "    <div class=\"colab-df-container\">\n",
              "      <div>\n",
              "<style scoped>\n",
              "    .dataframe tbody tr th:only-of-type {\n",
              "        vertical-align: middle;\n",
              "    }\n",
              "\n",
              "    .dataframe tbody tr th {\n",
              "        vertical-align: top;\n",
              "    }\n",
              "\n",
              "    .dataframe thead th {\n",
              "        text-align: right;\n",
              "    }\n",
              "</style>\n",
              "<table border=\"1\" class=\"dataframe\">\n",
              "  <thead>\n",
              "    <tr style=\"text-align: right;\">\n",
              "      <th></th>\n",
              "      <th>label</th>\n",
              "      <th>pixel0</th>\n",
              "      <th>pixel1</th>\n",
              "      <th>pixel2</th>\n",
              "      <th>pixel3</th>\n",
              "      <th>pixel4</th>\n",
              "      <th>pixel5</th>\n",
              "      <th>pixel6</th>\n",
              "      <th>pixel7</th>\n",
              "      <th>pixel8</th>\n",
              "      <th>...</th>\n",
              "      <th>pixel774</th>\n",
              "      <th>pixel775</th>\n",
              "      <th>pixel776</th>\n",
              "      <th>pixel777</th>\n",
              "      <th>pixel778</th>\n",
              "      <th>pixel779</th>\n",
              "      <th>pixel780</th>\n",
              "      <th>pixel781</th>\n",
              "      <th>pixel782</th>\n",
              "      <th>pixel783</th>\n",
              "    </tr>\n",
              "  </thead>\n",
              "  <tbody>\n",
              "    <tr>\n",
              "      <th>0</th>\n",
              "      <td>1</td>\n",
              "      <td>0</td>\n",
              "      <td>0</td>\n",
              "      <td>0</td>\n",
              "      <td>0</td>\n",
              "      <td>0</td>\n",
              "      <td>0</td>\n",
              "      <td>0</td>\n",
              "      <td>0</td>\n",
              "      <td>0</td>\n",
              "      <td>...</td>\n",
              "      <td>0</td>\n",
              "      <td>0</td>\n",
              "      <td>0</td>\n",
              "      <td>0</td>\n",
              "      <td>0</td>\n",
              "      <td>0</td>\n",
              "      <td>0</td>\n",
              "      <td>0</td>\n",
              "      <td>0</td>\n",
              "      <td>0</td>\n",
              "    </tr>\n",
              "    <tr>\n",
              "      <th>1</th>\n",
              "      <td>0</td>\n",
              "      <td>0</td>\n",
              "      <td>0</td>\n",
              "      <td>0</td>\n",
              "      <td>0</td>\n",
              "      <td>0</td>\n",
              "      <td>0</td>\n",
              "      <td>0</td>\n",
              "      <td>0</td>\n",
              "      <td>0</td>\n",
              "      <td>...</td>\n",
              "      <td>0</td>\n",
              "      <td>0</td>\n",
              "      <td>0</td>\n",
              "      <td>0</td>\n",
              "      <td>0</td>\n",
              "      <td>0</td>\n",
              "      <td>0</td>\n",
              "      <td>0</td>\n",
              "      <td>0</td>\n",
              "      <td>0</td>\n",
              "    </tr>\n",
              "    <tr>\n",
              "      <th>2</th>\n",
              "      <td>1</td>\n",
              "      <td>0</td>\n",
              "      <td>0</td>\n",
              "      <td>0</td>\n",
              "      <td>0</td>\n",
              "      <td>0</td>\n",
              "      <td>0</td>\n",
              "      <td>0</td>\n",
              "      <td>0</td>\n",
              "      <td>0</td>\n",
              "      <td>...</td>\n",
              "      <td>0</td>\n",
              "      <td>0</td>\n",
              "      <td>0</td>\n",
              "      <td>0</td>\n",
              "      <td>0</td>\n",
              "      <td>0</td>\n",
              "      <td>0</td>\n",
              "      <td>0</td>\n",
              "      <td>0</td>\n",
              "      <td>0</td>\n",
              "    </tr>\n",
              "    <tr>\n",
              "      <th>3</th>\n",
              "      <td>4</td>\n",
              "      <td>0</td>\n",
              "      <td>0</td>\n",
              "      <td>0</td>\n",
              "      <td>0</td>\n",
              "      <td>0</td>\n",
              "      <td>0</td>\n",
              "      <td>0</td>\n",
              "      <td>0</td>\n",
              "      <td>0</td>\n",
              "      <td>...</td>\n",
              "      <td>0</td>\n",
              "      <td>0</td>\n",
              "      <td>0</td>\n",
              "      <td>0</td>\n",
              "      <td>0</td>\n",
              "      <td>0</td>\n",
              "      <td>0</td>\n",
              "      <td>0</td>\n",
              "      <td>0</td>\n",
              "      <td>0</td>\n",
              "    </tr>\n",
              "    <tr>\n",
              "      <th>4</th>\n",
              "      <td>0</td>\n",
              "      <td>0</td>\n",
              "      <td>0</td>\n",
              "      <td>0</td>\n",
              "      <td>0</td>\n",
              "      <td>0</td>\n",
              "      <td>0</td>\n",
              "      <td>0</td>\n",
              "      <td>0</td>\n",
              "      <td>0</td>\n",
              "      <td>...</td>\n",
              "      <td>0</td>\n",
              "      <td>0</td>\n",
              "      <td>0</td>\n",
              "      <td>0</td>\n",
              "      <td>0</td>\n",
              "      <td>0</td>\n",
              "      <td>0</td>\n",
              "      <td>0</td>\n",
              "      <td>0</td>\n",
              "      <td>0</td>\n",
              "    </tr>\n",
              "  </tbody>\n",
              "</table>\n",
              "<p>5 rows × 785 columns</p>\n",
              "</div>\n",
              "      <button class=\"colab-df-convert\" onclick=\"convertToInteractive('df-9b7ae1dd-fa22-46cb-bb3d-c9056fb8d326')\"\n",
              "              title=\"Convert this dataframe to an interactive table.\"\n",
              "              style=\"display:none;\">\n",
              "        \n",
              "  <svg xmlns=\"http://www.w3.org/2000/svg\" height=\"24px\"viewBox=\"0 0 24 24\"\n",
              "       width=\"24px\">\n",
              "    <path d=\"M0 0h24v24H0V0z\" fill=\"none\"/>\n",
              "    <path d=\"M18.56 5.44l.94 2.06.94-2.06 2.06-.94-2.06-.94-.94-2.06-.94 2.06-2.06.94zm-11 1L8.5 8.5l.94-2.06 2.06-.94-2.06-.94L8.5 2.5l-.94 2.06-2.06.94zm10 10l.94 2.06.94-2.06 2.06-.94-2.06-.94-.94-2.06-.94 2.06-2.06.94z\"/><path d=\"M17.41 7.96l-1.37-1.37c-.4-.4-.92-.59-1.43-.59-.52 0-1.04.2-1.43.59L10.3 9.45l-7.72 7.72c-.78.78-.78 2.05 0 2.83L4 21.41c.39.39.9.59 1.41.59.51 0 1.02-.2 1.41-.59l7.78-7.78 2.81-2.81c.8-.78.8-2.07 0-2.86zM5.41 20L4 18.59l7.72-7.72 1.47 1.35L5.41 20z\"/>\n",
              "  </svg>\n",
              "      </button>\n",
              "      \n",
              "  <style>\n",
              "    .colab-df-container {\n",
              "      display:flex;\n",
              "      flex-wrap:wrap;\n",
              "      gap: 12px;\n",
              "    }\n",
              "\n",
              "    .colab-df-convert {\n",
              "      background-color: #E8F0FE;\n",
              "      border: none;\n",
              "      border-radius: 50%;\n",
              "      cursor: pointer;\n",
              "      display: none;\n",
              "      fill: #1967D2;\n",
              "      height: 32px;\n",
              "      padding: 0 0 0 0;\n",
              "      width: 32px;\n",
              "    }\n",
              "\n",
              "    .colab-df-convert:hover {\n",
              "      background-color: #E2EBFA;\n",
              "      box-shadow: 0px 1px 2px rgba(60, 64, 67, 0.3), 0px 1px 3px 1px rgba(60, 64, 67, 0.15);\n",
              "      fill: #174EA6;\n",
              "    }\n",
              "\n",
              "    [theme=dark] .colab-df-convert {\n",
              "      background-color: #3B4455;\n",
              "      fill: #D2E3FC;\n",
              "    }\n",
              "\n",
              "    [theme=dark] .colab-df-convert:hover {\n",
              "      background-color: #434B5C;\n",
              "      box-shadow: 0px 1px 3px 1px rgba(0, 0, 0, 0.15);\n",
              "      filter: drop-shadow(0px 1px 2px rgba(0, 0, 0, 0.3));\n",
              "      fill: #FFFFFF;\n",
              "    }\n",
              "  </style>\n",
              "\n",
              "      <script>\n",
              "        const buttonEl =\n",
              "          document.querySelector('#df-9b7ae1dd-fa22-46cb-bb3d-c9056fb8d326 button.colab-df-convert');\n",
              "        buttonEl.style.display =\n",
              "          google.colab.kernel.accessAllowed ? 'block' : 'none';\n",
              "\n",
              "        async function convertToInteractive(key) {\n",
              "          const element = document.querySelector('#df-9b7ae1dd-fa22-46cb-bb3d-c9056fb8d326');\n",
              "          const dataTable =\n",
              "            await google.colab.kernel.invokeFunction('convertToInteractive',\n",
              "                                                     [key], {});\n",
              "          if (!dataTable) return;\n",
              "\n",
              "          const docLinkHtml = 'Like what you see? Visit the ' +\n",
              "            '<a target=\"_blank\" href=https://colab.research.google.com/notebooks/data_table.ipynb>data table notebook</a>'\n",
              "            + ' to learn more about interactive tables.';\n",
              "          element.innerHTML = '';\n",
              "          dataTable['output_type'] = 'display_data';\n",
              "          await google.colab.output.renderOutput(dataTable, element);\n",
              "          const docLink = document.createElement('div');\n",
              "          docLink.innerHTML = docLinkHtml;\n",
              "          element.appendChild(docLink);\n",
              "        }\n",
              "      </script>\n",
              "    </div>\n",
              "  </div>\n",
              "  "
            ]
          },
          "metadata": {},
          "execution_count": 3
        }
      ]
    },
    {
      "cell_type": "code",
      "source": [
        "# Splitting into training and validation dataset\n",
        "df_features = df_train.iloc[:, 1:785]\n",
        "df_label = df_train.iloc[:, 0]\n",
        "\n",
        "X_test = df_test.iloc[:, 0:784]\n",
        "\n",
        "print(X_test.shape)"
      ],
      "metadata": {
        "colab": {
          "base_uri": "https://localhost:8080/"
        },
        "id": "6wusqn6OBknQ",
        "outputId": "8ef0023b-f4c1-4970-a1c7-3d1cae908106"
      },
      "execution_count": null,
      "outputs": [
        {
          "output_type": "stream",
          "name": "stdout",
          "text": [
            "(28000, 784)\n"
          ]
        }
      ]
    },
    {
      "cell_type": "code",
      "source": [
        "from sklearn.model_selection import train_test_split\n",
        "X_train, X_cv, y_train, y_cv = train_test_split(df_features, df_label, \n",
        "                                                test_size = 0.2,\n",
        "                                                random_state = 1212)\n",
        "\n",
        "X_train = X_train.values.reshape(33600, 784) #(33600, 784)\n",
        "X_cv = X_cv.values.reshape(8400, 784) #(8400, 784)\n",
        "\n",
        "X_test = X_test.values.reshape(28000, 784)"
      ],
      "metadata": {
        "id": "SV8VKz_PCxSD"
      },
      "execution_count": null,
      "outputs": []
    },
    {
      "cell_type": "code",
      "source": [
        "#Data cleaning, normalization and selection\n",
        "print((min(X_train[1]), max(X_train[1])))"
      ],
      "metadata": {
        "colab": {
          "base_uri": "https://localhost:8080/"
        },
        "id": "Cqt0hH76C38e",
        "outputId": "270ac670-e560-4080-bd0b-0a85281dddac"
      },
      "execution_count": null,
      "outputs": [
        {
          "output_type": "stream",
          "name": "stdout",
          "text": [
            "(0, 255)\n"
          ]
        }
      ]
    },
    {
      "cell_type": "code",
      "source": [
        "#As the pixel intensities are currently between the range of 0 and 255, we proceed to normalize the features, using broadcasting. In addition, we proceed to convert our labels from a class vector to binary One Hot Encoded\n",
        "# Feature Normalization \n",
        "X_train = X_train.astype('float32'); X_cv= X_cv.astype('float32'); X_test = X_test.astype('float32')\n",
        "X_train /= 255; X_cv /= 255; X_test /= 255\n",
        "\n",
        "# Convert labels to One Hot Encoded\n",
        "num_digits = 10\n",
        "y_train = keras.utils.to_categorical(y_train, num_digits)\n",
        "y_cv = keras.utils.to_categorical(y_cv, num_digits)"
      ],
      "metadata": {
        "id": "kl9wzUCsDb2D"
      },
      "execution_count": null,
      "outputs": []
    },
    {
      "cell_type": "code",
      "source": [
        "# Printing 2 examples of labels after conversion\n",
        "print(y_train[0]) # 2\n",
        "print(y_train[3]) # 7"
      ],
      "metadata": {
        "colab": {
          "base_uri": "https://localhost:8080/"
        },
        "id": "0kgc86EHDqhG",
        "outputId": "e719f706-d0de-425d-ad66-ecb58db202fd"
      },
      "execution_count": null,
      "outputs": [
        {
          "output_type": "stream",
          "name": "stdout",
          "text": [
            "[0. 0. 1. 0. 0. 0. 0. 0. 0. 0.]\n",
            "[0. 0. 0. 0. 0. 0. 0. 1. 0. 0.]\n"
          ]
        }
      ]
    },
    {
      "cell_type": "code",
      "source": [
        "#Model Fitting\n",
        "#We proceed by fitting several simple neural network models using Keras (with TensorFlow as our backend) and collect their accuracy. The model that performs the best on the validation set will be used as the model of choice for the competition.\n",
        "\n",
        "#Model 1: Simple Neural Network with 2 layers (300, 200)\n",
        "\n",
        "#In our first model, we will use the Keras library to train a neural network with the activation function set as ReLu. To determine which class to output, we will rely on the SoftMax function"
      ],
      "metadata": {
        "id": "EIRWmlitDzcT"
      },
      "execution_count": null,
      "outputs": []
    },
    {
      "cell_type": "code",
      "source": [
        "# Input Parameters\n",
        "n_input = 784 # number of features\n",
        "n_hidden_1 = 300\n",
        "n_hidden_2 = 200\n",
        "num_digits = 10"
      ],
      "metadata": {
        "id": "PWgV-FyYEfdL"
      },
      "execution_count": null,
      "outputs": []
    },
    {
      "cell_type": "code",
      "source": [
        "Inp = Input(shape=(784,))\n",
        "x = Dense(n_hidden_1, activation='relu', name = \"Hidden_Layer_1\")(Inp)\n",
        "x = Dense(n_hidden_2, activation='relu', name = \"Hidden_Layer_2\")(x)\n",
        "output = Dense(num_digits, activation='softmax', name = \"Output_Layer\")(x)"
      ],
      "metadata": {
        "id": "3C1Dhfp6EpRO"
      },
      "execution_count": null,
      "outputs": []
    },
    {
      "cell_type": "code",
      "source": [
        "# Our model would have '4' layers - input layer, 2 hidden layer and 1 output layer\n",
        "model = Model(Inp, output)\n",
        "model.summary() # We have 297,910 parameters to estimate"
      ],
      "metadata": {
        "colab": {
          "base_uri": "https://localhost:8080/"
        },
        "id": "tOrN6pt4E1BB",
        "outputId": "5e8e2972-da14-4e94-f26c-711a7554af21"
      },
      "execution_count": null,
      "outputs": [
        {
          "output_type": "stream",
          "name": "stdout",
          "text": [
            "Model: \"model\"\n",
            "_________________________________________________________________\n",
            " Layer (type)                Output Shape              Param #   \n",
            "=================================================================\n",
            " input_1 (InputLayer)        [(None, 784)]             0         \n",
            "                                                                 \n",
            " Hidden_Layer_1 (Dense)      (None, 300)               235500    \n",
            "                                                                 \n",
            " Hidden_Layer_2 (Dense)      (None, 200)               60200     \n",
            "                                                                 \n",
            " Output_Layer (Dense)        (None, 10)                2010      \n",
            "                                                                 \n",
            "=================================================================\n",
            "Total params: 297,710\n",
            "Trainable params: 297,710\n",
            "Non-trainable params: 0\n",
            "_________________________________________________________________\n"
          ]
        }
      ]
    },
    {
      "cell_type": "code",
      "source": [
        "# Insert Hyperparameters\n",
        "learning_rate = 0.1\n",
        "training_epochs = 20\n",
        "batch_size = 100"
      ],
      "metadata": {
        "id": "VOwaP7QiE6ov"
      },
      "execution_count": null,
      "outputs": []
    },
    {
      "cell_type": "code",
      "source": [
        "model.compile(loss='categorical_crossentropy', optimizer=keras.optimizers.SGD(learning_rate=0.001), metrics=['accuracy'])"
      ],
      "metadata": {
        "id": "yPrCXpK05-6P"
      },
      "execution_count": null,
      "outputs": []
    },
    {
      "cell_type": "code",
      "source": [
        "import matplotlib.pyplot as plt\n",
        "\n",
        "def plot_history(history):\n",
        "    # Plot training & validation accuracy values\n",
        "    plt.plot(history.history['accuracy'])\n",
        "    plt.plot(history.history['val_accuracy'])\n",
        "    plt.title('Model accuracy')\n",
        "    plt.ylabel('Accuracy')\n",
        "    plt.xlabel('Epoch')\n",
        "    plt.legend(['Train', 'Validation'], loc='upper left')\n",
        "    plt.show()\n",
        "\n",
        "    # Plot training & validation loss values\n",
        "    plt.plot(history.history['loss'])\n",
        "    plt.plot(history.history['val_loss'])\n",
        "    plt.title('Model loss')\n",
        "    plt.ylabel('Loss')\n",
        "    plt.xlabel('Epoch')\n",
        "    plt.legend(['Train', 'Validation'], loc='upper left')\n",
        "    plt.show()\n"
      ],
      "metadata": {
        "id": "6frpG-rQqraN"
      },
      "execution_count": null,
      "outputs": []
    },
    {
      "cell_type": "code",
      "source": [
        "early_stop = keras.callbacks.EarlyStopping(monitor='val_loss', patience=10)\n",
        "history1 = model.fit(X_train, y_train,\n",
        "                     batch_size = batch_size,\n",
        "                     epochs = training_epochs,\n",
        "                     verbose = 2,\n",
        "                     validation_data=(X_cv, y_cv))\n",
        "plot_history(history1)"
      ],
      "metadata": {
        "colab": {
          "base_uri": "https://localhost:8080/",
          "height": 1000
        },
        "id": "ggvpvS5sFOLM",
        "outputId": "da416c7d-d225-4cb2-f056-2f0cd524d731"
      },
      "execution_count": null,
      "outputs": [
        {
          "output_type": "stream",
          "name": "stdout",
          "text": [
            "Epoch 1/20\n",
            "336/336 - 3s - loss: 2.2259 - accuracy: 0.2217 - val_loss: 2.1077 - val_accuracy: 0.3870 - 3s/epoch - 8ms/step\n",
            "Epoch 2/20\n",
            "336/336 - 2s - loss: 2.0051 - accuracy: 0.4790 - val_loss: 1.8923 - val_accuracy: 0.5525 - 2s/epoch - 6ms/step\n",
            "Epoch 3/20\n",
            "336/336 - 2s - loss: 1.7878 - accuracy: 0.5984 - val_loss: 1.6748 - val_accuracy: 0.6361 - 2s/epoch - 7ms/step\n",
            "Epoch 4/20\n",
            "336/336 - 3s - loss: 1.5700 - accuracy: 0.6700 - val_loss: 1.4602 - val_accuracy: 0.7006 - 3s/epoch - 9ms/step\n",
            "Epoch 5/20\n",
            "336/336 - 3s - loss: 1.3622 - accuracy: 0.7291 - val_loss: 1.2630 - val_accuracy: 0.7512 - 3s/epoch - 8ms/step\n",
            "Epoch 6/20\n",
            "336/336 - 3s - loss: 1.1793 - accuracy: 0.7703 - val_loss: 1.0956 - val_accuracy: 0.7868 - 3s/epoch - 8ms/step\n",
            "Epoch 7/20\n",
            "336/336 - 2s - loss: 1.0291 - accuracy: 0.7986 - val_loss: 0.9615 - val_accuracy: 0.8107 - 2s/epoch - 6ms/step\n",
            "Epoch 8/20\n",
            "336/336 - 2s - loss: 0.9108 - accuracy: 0.8168 - val_loss: 0.8566 - val_accuracy: 0.8270 - 2s/epoch - 6ms/step\n",
            "Epoch 9/20\n",
            "336/336 - 3s - loss: 0.8188 - accuracy: 0.8292 - val_loss: 0.7750 - val_accuracy: 0.8373 - 3s/epoch - 9ms/step\n",
            "Epoch 10/20\n",
            "336/336 - 3s - loss: 0.7471 - accuracy: 0.8397 - val_loss: 0.7108 - val_accuracy: 0.8464 - 3s/epoch - 7ms/step\n",
            "Epoch 11/20\n",
            "336/336 - 2s - loss: 0.6904 - accuracy: 0.8471 - val_loss: 0.6598 - val_accuracy: 0.8511 - 2s/epoch - 6ms/step\n",
            "Epoch 12/20\n",
            "336/336 - 2s - loss: 0.6449 - accuracy: 0.8532 - val_loss: 0.6182 - val_accuracy: 0.8574 - 2s/epoch - 6ms/step\n",
            "Epoch 13/20\n",
            "336/336 - 2s - loss: 0.6076 - accuracy: 0.8585 - val_loss: 0.5839 - val_accuracy: 0.8625 - 2s/epoch - 6ms/step\n",
            "Epoch 14/20\n",
            "336/336 - 2s - loss: 0.5766 - accuracy: 0.8626 - val_loss: 0.5553 - val_accuracy: 0.8673 - 2s/epoch - 6ms/step\n",
            "Epoch 15/20\n",
            "336/336 - 2s - loss: 0.5505 - accuracy: 0.8668 - val_loss: 0.5312 - val_accuracy: 0.8694 - 2s/epoch - 7ms/step\n",
            "Epoch 16/20\n",
            "336/336 - 4s - loss: 0.5281 - accuracy: 0.8699 - val_loss: 0.5102 - val_accuracy: 0.8727 - 4s/epoch - 11ms/step\n",
            "Epoch 17/20\n",
            "336/336 - 2s - loss: 0.5089 - accuracy: 0.8727 - val_loss: 0.4922 - val_accuracy: 0.8765 - 2s/epoch - 6ms/step\n",
            "Epoch 18/20\n",
            "336/336 - 2s - loss: 0.4920 - accuracy: 0.8757 - val_loss: 0.4764 - val_accuracy: 0.8788 - 2s/epoch - 6ms/step\n",
            "Epoch 19/20\n",
            "336/336 - 2s - loss: 0.4772 - accuracy: 0.8789 - val_loss: 0.4624 - val_accuracy: 0.8818 - 2s/epoch - 6ms/step\n",
            "Epoch 20/20\n",
            "336/336 - 2s - loss: 0.4639 - accuracy: 0.8812 - val_loss: 0.4501 - val_accuracy: 0.8843 - 2s/epoch - 6ms/step\n"
          ]
        },
        {
          "output_type": "display_data",
          "data": {
            "text/plain": [
              "<Figure size 432x288 with 1 Axes>"
            ],
            "image/png": "[encoded data removed]"
          },
          "metadata": {
            "needs_background": "light"
          }
        },
        {
          "output_type": "display_data",
          "data": {
            "text/plain": [
              "<Figure size 432x288 with 1 Axes>"
            ],
            "image/png": "[encoded data removed]"
          },
          "metadata": {
            "needs_background": "light"
          }
        }
      ]
    },
    {
      "cell_type": "code",
      "source": [
        "#Execution Time 84.27 seconds"
      ],
      "metadata": {
        "id": "JReM7M-zrigV"
      },
      "execution_count": null,
      "outputs": []
    }
  ]
}