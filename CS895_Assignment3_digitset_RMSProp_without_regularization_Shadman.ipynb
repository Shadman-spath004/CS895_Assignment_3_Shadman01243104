{
  "nbformat": 4,
  "nbformat_minor": 0,
  "metadata": {
    "colab": {
      "provenance": [],
      "mount_file_id": "16dOV2xbmniY8CEfhJH4C-15fKmSq5b6m",
      "authorship_tag": "ABX9TyO+3+L/7J41/t6VImuRqHJn",
      "include_colab_link": true
    },
    "kernelspec": {
      "name": "python3",
      "display_name": "Python 3"
    },
    "language_info": {
      "name": "python"
    }
  },
  "cells": [
    {
      "cell_type": "markdown",
      "metadata": {
        "id": "view-in-github",
        "colab_type": "text"
      },
      "source": [
        "<a href=\"https://colab.research.google.com/github/Shadman-spath004/CS895_Assignment_3_Shadman01243104/blob/main/CS895_Assignment3_digitset_RMSProp_without_regularization_Shadman.ipynb\" target=\"_parent\"><img src=\"https://colab.research.google.com/assets/colab-badge.svg\" alt=\"Open In Colab\"/></a>"
      ]
    },
    {
      "cell_type": "code",
      "execution_count": null,
      "metadata": {
        "id": "3bUGMOx-Am4p"
      },
      "outputs": [],
      "source": [
        "#Importing key libraries, and reading data\n",
        "import pandas as pd\n",
        "import numpy as np\n",
        "\n",
        "np.random.seed(2409)\n",
        "\n",
        "import keras\n",
        "from keras.models import Model\n",
        "from keras.layers import *\n",
        "from keras import optimizers"
      ]
    },
    {
      "cell_type": "code",
      "source": [
        "df_train = pd.read_csv('/content/drive/MyDrive/Colab Notebooks/Digit MNIST/train.csv')\n",
        "df_test = pd.read_csv('/content/drive/MyDrive/Colab Notebooks/Digit MNIST/test.csv')"
      ],
      "metadata": {
        "id": "BA5CvLSxBBKJ"
      },
      "execution_count": null,
      "outputs": []
    },
    {
      "cell_type": "code",
      "source": [
        "df_train.head() # 784 features, 1 label"
      ],
      "metadata": {
        "colab": {
          "base_uri": "https://localhost:8080/",
          "height": 299
        },
        "id": "fIr46NDaBgCK",
        "outputId": "67e63e92-716c-4553-ac3e-16290d7dfea6"
      },
      "execution_count": null,
      "outputs": [
        {
          "output_type": "execute_result",
          "data": {
            "text/plain": [
              "   label  pixel0  pixel1  pixel2  pixel3  pixel4  pixel5  pixel6  pixel7  \\\n",
              "0      1       0       0       0       0       0       0       0       0   \n",
              "1      0       0       0       0       0       0       0       0       0   \n",
              "2      1       0       0       0       0       0       0       0       0   \n",
              "3      4       0       0       0       0       0       0       0       0   \n",
              "4      0       0       0       0       0       0       0       0       0   \n",
              "\n",
              "   pixel8  ...  pixel774  pixel775  pixel776  pixel777  pixel778  pixel779  \\\n",
              "0       0  ...         0         0         0         0         0         0   \n",
              "1       0  ...         0         0         0         0         0         0   \n",
              "2       0  ...         0         0         0         0         0         0   \n",
              "3       0  ...         0         0         0         0         0         0   \n",
              "4       0  ...         0         0         0         0         0         0   \n",
              "\n",
              "   pixel780  pixel781  pixel782  pixel783  \n",
              "0         0         0         0         0  \n",
              "1         0         0         0         0  \n",
              "2         0         0         0         0  \n",
              "3         0         0         0         0  \n",
              "4         0         0         0         0  \n",
              "\n",
              "[5 rows x 785 columns]"
            ],
            "text/html": [
              "\n",
              "  <div id=\"df-dc007323-3385-4da0-901a-015c60864a35\">\n",
              "    <div class=\"colab-df-container\">\n",
              "      <div>\n",
              "<style scoped>\n",
              "    .dataframe tbody tr th:only-of-type {\n",
              "        vertical-align: middle;\n",
              "    }\n",
              "\n",
              "    .dataframe tbody tr th {\n",
              "        vertical-align: top;\n",
              "    }\n",
              "\n",
              "    .dataframe thead th {\n",
              "        text-align: right;\n",
              "    }\n",
              "</style>\n",
              "<table border=\"1\" class=\"dataframe\">\n",
              "  <thead>\n",
              "    <tr style=\"text-align: right;\">\n",
              "      <th></th>\n",
              "      <th>label</th>\n",
              "      <th>pixel0</th>\n",
              "      <th>pixel1</th>\n",
              "      <th>pixel2</th>\n",
              "      <th>pixel3</th>\n",
              "      <th>pixel4</th>\n",
              "      <th>pixel5</th>\n",
              "      <th>pixel6</th>\n",
              "      <th>pixel7</th>\n",
              "      <th>pixel8</th>\n",
              "      <th>...</th>\n",
              "      <th>pixel774</th>\n",
              "      <th>pixel775</th>\n",
              "      <th>pixel776</th>\n",
              "      <th>pixel777</th>\n",
              "      <th>pixel778</th>\n",
              "      <th>pixel779</th>\n",
              "      <th>pixel780</th>\n",
              "      <th>pixel781</th>\n",
              "      <th>pixel782</th>\n",
              "      <th>pixel783</th>\n",
              "    </tr>\n",
              "  </thead>\n",
              "  <tbody>\n",
              "    <tr>\n",
              "      <th>0</th>\n",
              "      <td>1</td>\n",
              "      <td>0</td>\n",
              "      <td>0</td>\n",
              "      <td>0</td>\n",
              "      <td>0</td>\n",
              "      <td>0</td>\n",
              "      <td>0</td>\n",
              "      <td>0</td>\n",
              "      <td>0</td>\n",
              "      <td>0</td>\n",
              "      <td>...</td>\n",
              "      <td>0</td>\n",
              "      <td>0</td>\n",
              "      <td>0</td>\n",
              "      <td>0</td>\n",
              "      <td>0</td>\n",
              "      <td>0</td>\n",
              "      <td>0</td>\n",
              "      <td>0</td>\n",
              "      <td>0</td>\n",
              "      <td>0</td>\n",
              "    </tr>\n",
              "    <tr>\n",
              "      <th>1</th>\n",
              "      <td>0</td>\n",
              "      <td>0</td>\n",
              "      <td>0</td>\n",
              "      <td>0</td>\n",
              "      <td>0</td>\n",
              "      <td>0</td>\n",
              "      <td>0</td>\n",
              "      <td>0</td>\n",
              "      <td>0</td>\n",
              "      <td>0</td>\n",
              "      <td>...</td>\n",
              "      <td>0</td>\n",
              "      <td>0</td>\n",
              "      <td>0</td>\n",
              "      <td>0</td>\n",
              "      <td>0</td>\n",
              "      <td>0</td>\n",
              "      <td>0</td>\n",
              "      <td>0</td>\n",
              "      <td>0</td>\n",
              "      <td>0</td>\n",
              "    </tr>\n",
              "    <tr>\n",
              "      <th>2</th>\n",
              "      <td>1</td>\n",
              "      <td>0</td>\n",
              "      <td>0</td>\n",
              "      <td>0</td>\n",
              "      <td>0</td>\n",
              "      <td>0</td>\n",
              "      <td>0</td>\n",
              "      <td>0</td>\n",
              "      <td>0</td>\n",
              "      <td>0</td>\n",
              "      <td>...</td>\n",
              "      <td>0</td>\n",
              "      <td>0</td>\n",
              "      <td>0</td>\n",
              "      <td>0</td>\n",
              "      <td>0</td>\n",
              "      <td>0</td>\n",
              "      <td>0</td>\n",
              "      <td>0</td>\n",
              "      <td>0</td>\n",
              "      <td>0</td>\n",
              "    </tr>\n",
              "    <tr>\n",
              "      <th>3</th>\n",
              "      <td>4</td>\n",
              "      <td>0</td>\n",
              "      <td>0</td>\n",
              "      <td>0</td>\n",
              "      <td>0</td>\n",
              "      <td>0</td>\n",
              "      <td>0</td>\n",
              "      <td>0</td>\n",
              "      <td>0</td>\n",
              "      <td>0</td>\n",
              "      <td>...</td>\n",
              "      <td>0</td>\n",
              "      <td>0</td>\n",
              "      <td>0</td>\n",
              "      <td>0</td>\n",
              "      <td>0</td>\n",
              "      <td>0</td>\n",
              "      <td>0</td>\n",
              "      <td>0</td>\n",
              "      <td>0</td>\n",
              "      <td>0</td>\n",
              "    </tr>\n",
              "    <tr>\n",
              "      <th>4</th>\n",
              "      <td>0</td>\n",
              "      <td>0</td>\n",
              "      <td>0</td>\n",
              "      <td>0</td>\n",
              "      <td>0</td>\n",
              "      <td>0</td>\n",
              "      <td>0</td>\n",
              "      <td>0</td>\n",
              "      <td>0</td>\n",
              "      <td>0</td>\n",
              "      <td>...</td>\n",
              "      <td>0</td>\n",
              "      <td>0</td>\n",
              "      <td>0</td>\n",
              "      <td>0</td>\n",
              "      <td>0</td>\n",
              "      <td>0</td>\n",
              "      <td>0</td>\n",
              "      <td>0</td>\n",
              "      <td>0</td>\n",
              "      <td>0</td>\n",
              "    </tr>\n",
              "  </tbody>\n",
              "</table>\n",
              "<p>5 rows × 785 columns</p>\n",
              "</div>\n",
              "      <button class=\"colab-df-convert\" onclick=\"convertToInteractive('df-dc007323-3385-4da0-901a-015c60864a35')\"\n",
              "              title=\"Convert this dataframe to an interactive table.\"\n",
              "              style=\"display:none;\">\n",
              "        \n",
              "  <svg xmlns=\"http://www.w3.org/2000/svg\" height=\"24px\"viewBox=\"0 0 24 24\"\n",
              "       width=\"24px\">\n",
              "    <path d=\"M0 0h24v24H0V0z\" fill=\"none\"/>\n",
              "    <path d=\"M18.56 5.44l.94 2.06.94-2.06 2.06-.94-2.06-.94-.94-2.06-.94 2.06-2.06.94zm-11 1L8.5 8.5l.94-2.06 2.06-.94-2.06-.94L8.5 2.5l-.94 2.06-2.06.94zm10 10l.94 2.06.94-2.06 2.06-.94-2.06-.94-.94-2.06-.94 2.06-2.06.94z\"/><path d=\"M17.41 7.96l-1.37-1.37c-.4-.4-.92-.59-1.43-.59-.52 0-1.04.2-1.43.59L10.3 9.45l-7.72 7.72c-.78.78-.78 2.05 0 2.83L4 21.41c.39.39.9.59 1.41.59.51 0 1.02-.2 1.41-.59l7.78-7.78 2.81-2.81c.8-.78.8-2.07 0-2.86zM5.41 20L4 18.59l7.72-7.72 1.47 1.35L5.41 20z\"/>\n",
              "  </svg>\n",
              "      </button>\n",
              "      \n",
              "  <style>\n",
              "    .colab-df-container {\n",
              "      display:flex;\n",
              "      flex-wrap:wrap;\n",
              "      gap: 12px;\n",
              "    }\n",
              "\n",
              "    .colab-df-convert {\n",
              "      background-color: #E8F0FE;\n",
              "      border: none;\n",
              "      border-radius: 50%;\n",
              "      cursor: pointer;\n",
              "      display: none;\n",
              "      fill: #1967D2;\n",
              "      height: 32px;\n",
              "      padding: 0 0 0 0;\n",
              "      width: 32px;\n",
              "    }\n",
              "\n",
              "    .colab-df-convert:hover {\n",
              "      background-color: #E2EBFA;\n",
              "      box-shadow: 0px 1px 2px rgba(60, 64, 67, 0.3), 0px 1px 3px 1px rgba(60, 64, 67, 0.15);\n",
              "      fill: #174EA6;\n",
              "    }\n",
              "\n",
              "    [theme=dark] .colab-df-convert {\n",
              "      background-color: #3B4455;\n",
              "      fill: #D2E3FC;\n",
              "    }\n",
              "\n",
              "    [theme=dark] .colab-df-convert:hover {\n",
              "      background-color: #434B5C;\n",
              "      box-shadow: 0px 1px 3px 1px rgba(0, 0, 0, 0.15);\n",
              "      filter: drop-shadow(0px 1px 2px rgba(0, 0, 0, 0.3));\n",
              "      fill: #FFFFFF;\n",
              "    }\n",
              "  </style>\n",
              "\n",
              "      <script>\n",
              "        const buttonEl =\n",
              "          document.querySelector('#df-dc007323-3385-4da0-901a-015c60864a35 button.colab-df-convert');\n",
              "        buttonEl.style.display =\n",
              "          google.colab.kernel.accessAllowed ? 'block' : 'none';\n",
              "\n",
              "        async function convertToInteractive(key) {\n",
              "          const element = document.querySelector('#df-dc007323-3385-4da0-901a-015c60864a35');\n",
              "          const dataTable =\n",
              "            await google.colab.kernel.invokeFunction('convertToInteractive',\n",
              "                                                     [key], {});\n",
              "          if (!dataTable) return;\n",
              "\n",
              "          const docLinkHtml = 'Like what you see? Visit the ' +\n",
              "            '<a target=\"_blank\" href=https://colab.research.google.com/notebooks/data_table.ipynb>data table notebook</a>'\n",
              "            + ' to learn more about interactive tables.';\n",
              "          element.innerHTML = '';\n",
              "          dataTable['output_type'] = 'display_data';\n",
              "          await google.colab.output.renderOutput(dataTable, element);\n",
              "          const docLink = document.createElement('div');\n",
              "          docLink.innerHTML = docLinkHtml;\n",
              "          element.appendChild(docLink);\n",
              "        }\n",
              "      </script>\n",
              "    </div>\n",
              "  </div>\n",
              "  "
            ]
          },
          "metadata": {},
          "execution_count": 3
        }
      ]
    },
    {
      "cell_type": "code",
      "source": [
        "# Splitting into training and validation dataset\n",
        "df_features = df_train.iloc[:, 1:785]\n",
        "df_label = df_train.iloc[:, 0]\n",
        "\n",
        "X_test = df_test.iloc[:, 0:784]\n",
        "\n",
        "print(X_test.shape)"
      ],
      "metadata": {
        "colab": {
          "base_uri": "https://localhost:8080/"
        },
        "id": "6wusqn6OBknQ",
        "outputId": "aa9d22d7-1bef-44f6-c230-1d202545d64f"
      },
      "execution_count": null,
      "outputs": [
        {
          "output_type": "stream",
          "name": "stdout",
          "text": [
            "(28000, 784)\n"
          ]
        }
      ]
    },
    {
      "cell_type": "code",
      "source": [
        "from sklearn.model_selection import train_test_split\n",
        "X_train, X_cv, y_train, y_cv = train_test_split(df_features, df_label, \n",
        "                                                test_size = 0.2,\n",
        "                                                random_state = 1212)\n",
        "\n",
        "X_train = X_train.values.reshape(33600, 784) #(33600, 784)\n",
        "X_cv = X_cv.values.reshape(8400, 784) #(8400, 784)\n",
        "\n",
        "X_test = X_test.values.reshape(28000, 784)"
      ],
      "metadata": {
        "id": "SV8VKz_PCxSD"
      },
      "execution_count": null,
      "outputs": []
    },
    {
      "cell_type": "code",
      "source": [
        "#Data cleaning, normalization and selection\n",
        "print((min(X_train[1]), max(X_train[1])))"
      ],
      "metadata": {
        "colab": {
          "base_uri": "https://localhost:8080/"
        },
        "id": "Cqt0hH76C38e",
        "outputId": "d1f43314-01c1-49e0-9edd-05458df20a8c"
      },
      "execution_count": null,
      "outputs": [
        {
          "output_type": "stream",
          "name": "stdout",
          "text": [
            "(0, 255)\n"
          ]
        }
      ]
    },
    {
      "cell_type": "code",
      "source": [
        "#As the pixel intensities are currently between the range of 0 and 255, we proceed to normalize the features, using broadcasting. In addition, we proceed to convert our labels from a class vector to binary One Hot Encoded\n",
        "# Feature Normalization \n",
        "X_train = X_train.astype('float32'); X_cv= X_cv.astype('float32'); X_test = X_test.astype('float32')\n",
        "X_train /= 255; X_cv /= 255; X_test /= 255\n",
        "\n",
        "# Convert labels to One Hot Encoded\n",
        "num_digits = 10\n",
        "y_train = keras.utils.to_categorical(y_train, num_digits)\n",
        "y_cv = keras.utils.to_categorical(y_cv, num_digits)"
      ],
      "metadata": {
        "id": "kl9wzUCsDb2D"
      },
      "execution_count": null,
      "outputs": []
    },
    {
      "cell_type": "code",
      "source": [
        "# Printing 2 examples of labels after conversion\n",
        "print(y_train[0]) # 2\n",
        "print(y_train[3]) # 7"
      ],
      "metadata": {
        "colab": {
          "base_uri": "https://localhost:8080/"
        },
        "id": "0kgc86EHDqhG",
        "outputId": "ff7179bf-7f84-42a0-c635-b4a44c0ec130"
      },
      "execution_count": null,
      "outputs": [
        {
          "output_type": "stream",
          "name": "stdout",
          "text": [
            "[0. 0. 1. 0. 0. 0. 0. 0. 0. 0.]\n",
            "[0. 0. 0. 0. 0. 0. 0. 1. 0. 0.]\n"
          ]
        }
      ]
    },
    {
      "cell_type": "code",
      "source": [
        "#Model Fitting\n",
        "#We proceed by fitting several simple neural network models using Keras (with TensorFlow as our backend) and collect their accuracy. The model that performs the best on the validation set will be used as the model of choice for the competition.\n",
        "\n",
        "#Model 1: Simple Neural Network with 2 layers (300, 200)\n",
        "\n",
        "#In our first model, we will use the Keras library to train a neural network with the activation function set as ReLu. To determine which class to output, we will rely on the SoftMax function"
      ],
      "metadata": {
        "id": "EIRWmlitDzcT"
      },
      "execution_count": null,
      "outputs": []
    },
    {
      "cell_type": "code",
      "source": [
        "# Input Parameters\n",
        "n_input = 784 # number of features\n",
        "n_hidden_1 = 300\n",
        "n_hidden_2 = 200\n",
        "num_digits = 10"
      ],
      "metadata": {
        "id": "PWgV-FyYEfdL"
      },
      "execution_count": null,
      "outputs": []
    },
    {
      "cell_type": "code",
      "source": [
        "Inp = Input(shape=(784,))\n",
        "x = Dense(n_hidden_1, activation='relu', name = \"Hidden_Layer_1\")(Inp)\n",
        "x = Dense(n_hidden_2, activation='relu', name = \"Hidden_Layer_2\")(x)\n",
        "output = Dense(num_digits, activation='softmax', name = \"Output_Layer\")(x)"
      ],
      "metadata": {
        "id": "3C1Dhfp6EpRO"
      },
      "execution_count": null,
      "outputs": []
    },
    {
      "cell_type": "code",
      "source": [
        "# Our model would have '4' layers - input layer, 2 hidden layer and 1 output layer\n",
        "model = Model(Inp, output)\n",
        "model.summary() # We have 297,910 parameters to estimate"
      ],
      "metadata": {
        "colab": {
          "base_uri": "https://localhost:8080/"
        },
        "id": "tOrN6pt4E1BB",
        "outputId": "67b117cb-8e30-4bba-eb18-09e09ebfebcb"
      },
      "execution_count": null,
      "outputs": [
        {
          "output_type": "stream",
          "name": "stdout",
          "text": [
            "Model: \"model\"\n",
            "_________________________________________________________________\n",
            " Layer (type)                Output Shape              Param #   \n",
            "=================================================================\n",
            " input_1 (InputLayer)        [(None, 784)]             0         \n",
            "                                                                 \n",
            " Hidden_Layer_1 (Dense)      (None, 300)               235500    \n",
            "                                                                 \n",
            " Hidden_Layer_2 (Dense)      (None, 200)               60200     \n",
            "                                                                 \n",
            " Output_Layer (Dense)        (None, 10)                2010      \n",
            "                                                                 \n",
            "=================================================================\n",
            "Total params: 297,710\n",
            "Trainable params: 297,710\n",
            "Non-trainable params: 0\n",
            "_________________________________________________________________\n"
          ]
        }
      ]
    },
    {
      "cell_type": "code",
      "source": [
        "# Insert Hyperparameters\n",
        "learning_rate = 0.1\n",
        "training_epochs = 20\n",
        "batch_size = 100"
      ],
      "metadata": {
        "id": "VOwaP7QiE6ov"
      },
      "execution_count": null,
      "outputs": []
    },
    {
      "cell_type": "code",
      "source": [
        "#sgd = optimizers.SGD(lr=learning_rate)\n",
        "from keras.optimizers import RMSprop\n",
        "\n",
        "# Compile the model with RMSprop optimizer\n",
        "optimizer = RMSprop(learning_rate=0.001, rho=0.9)\n",
        "\n"
      ],
      "metadata": {
        "id": "pY5OjIduzadt"
      },
      "execution_count": null,
      "outputs": []
    },
    {
      "cell_type": "code",
      "source": [
        "model.compile(loss='categorical_crossentropy', optimizer=optimizer, metrics=['accuracy'])"
      ],
      "metadata": {
        "id": "yPrCXpK05-6P"
      },
      "execution_count": null,
      "outputs": []
    },
    {
      "cell_type": "code",
      "source": [
        "import matplotlib.pyplot as plt\n",
        "\n",
        "def plot_history(history):\n",
        "    # Plot training & validation accuracy values\n",
        "    plt.plot(history.history['accuracy'])\n",
        "    plt.plot(history.history['val_accuracy'])\n",
        "    plt.title('Model accuracy')\n",
        "    plt.ylabel('Accuracy')\n",
        "    plt.xlabel('Epoch')\n",
        "    plt.legend(['Train', 'Validation'], loc='upper left')\n",
        "    plt.show()\n",
        "\n",
        "    # Plot training & validation loss values\n",
        "    plt.plot(history.history['loss'])\n",
        "    plt.plot(history.history['val_loss'])\n",
        "    plt.title('Model loss')\n",
        "    plt.ylabel('Loss')\n",
        "    plt.xlabel('Epoch')\n",
        "    plt.legend(['Train', 'Validation'], loc='upper left')\n",
        "    plt.show()\n"
      ],
      "metadata": {
        "id": "ZM40O7TGDKzJ"
      },
      "execution_count": null,
      "outputs": []
    },
    {
      "cell_type": "code",
      "source": [
        "early_stop = keras.callbacks.EarlyStopping(monitor='val_loss', patience=10)\n",
        "history1 = model.fit(X_train, y_train,\n",
        "                     batch_size = batch_size,\n",
        "                     epochs = training_epochs,\n",
        "                     verbose = 2,\n",
        "                     validation_data=(X_cv, y_cv))\n",
        "plot_history(history1)"
      ],
      "metadata": {
        "colab": {
          "base_uri": "https://localhost:8080/",
          "height": 1000
        },
        "id": "ggvpvS5sFOLM",
        "outputId": "4d16c852-d2be-460d-93fa-962840c4eb1f"
      },
      "execution_count": null,
      "outputs": [
        {
          "output_type": "stream",
          "name": "stdout",
          "text": [
            "Epoch 1/20\n",
            "336/336 - 4s - loss: 0.3061 - accuracy: 0.9072 - val_loss: 0.1713 - val_accuracy: 0.9477 - 4s/epoch - 11ms/step\n",
            "Epoch 2/20\n",
            "336/336 - 3s - loss: 0.1208 - accuracy: 0.9639 - val_loss: 0.1102 - val_accuracy: 0.9669 - 3s/epoch - 8ms/step\n",
            "Epoch 3/20\n",
            "336/336 - 5s - loss: 0.0796 - accuracy: 0.9740 - val_loss: 0.1063 - val_accuracy: 0.9694 - 5s/epoch - 13ms/step\n",
            "Epoch 4/20\n",
            "336/336 - 3s - loss: 0.0552 - accuracy: 0.9831 - val_loss: 0.0948 - val_accuracy: 0.9737 - 3s/epoch - 8ms/step\n",
            "Epoch 5/20\n",
            "336/336 - 3s - loss: 0.0397 - accuracy: 0.9880 - val_loss: 0.0950 - val_accuracy: 0.9761 - 3s/epoch - 8ms/step\n",
            "Epoch 6/20\n",
            "336/336 - 3s - loss: 0.0297 - accuracy: 0.9905 - val_loss: 0.1092 - val_accuracy: 0.9738 - 3s/epoch - 8ms/step\n",
            "Epoch 7/20\n",
            "336/336 - 4s - loss: 0.0230 - accuracy: 0.9930 - val_loss: 0.1138 - val_accuracy: 0.9748 - 4s/epoch - 11ms/step\n",
            "Epoch 8/20\n",
            "336/336 - 4s - loss: 0.0171 - accuracy: 0.9949 - val_loss: 0.1191 - val_accuracy: 0.9742 - 4s/epoch - 11ms/step\n",
            "Epoch 9/20\n",
            "336/336 - 3s - loss: 0.0147 - accuracy: 0.9957 - val_loss: 0.1032 - val_accuracy: 0.9777 - 3s/epoch - 8ms/step\n",
            "Epoch 10/20\n",
            "336/336 - 3s - loss: 0.0104 - accuracy: 0.9966 - val_loss: 0.1129 - val_accuracy: 0.9804 - 3s/epoch - 8ms/step\n",
            "Epoch 11/20\n",
            "336/336 - 3s - loss: 0.0093 - accuracy: 0.9972 - val_loss: 0.1139 - val_accuracy: 0.9798 - 3s/epoch - 8ms/step\n",
            "Epoch 12/20\n",
            "336/336 - 4s - loss: 0.0078 - accuracy: 0.9977 - val_loss: 0.1362 - val_accuracy: 0.9774 - 4s/epoch - 13ms/step\n",
            "Epoch 13/20\n",
            "336/336 - 3s - loss: 0.0055 - accuracy: 0.9982 - val_loss: 0.1621 - val_accuracy: 0.9743 - 3s/epoch - 8ms/step\n",
            "Epoch 14/20\n",
            "336/336 - 3s - loss: 0.0055 - accuracy: 0.9981 - val_loss: 0.1512 - val_accuracy: 0.9773 - 3s/epoch - 8ms/step\n",
            "Epoch 15/20\n",
            "336/336 - 3s - loss: 0.0048 - accuracy: 0.9985 - val_loss: 0.1422 - val_accuracy: 0.9787 - 3s/epoch - 8ms/step\n",
            "Epoch 16/20\n",
            "336/336 - 6s - loss: 0.0041 - accuracy: 0.9987 - val_loss: 0.1673 - val_accuracy: 0.9786 - 6s/epoch - 17ms/step\n",
            "Epoch 17/20\n",
            "336/336 - 6s - loss: 0.0052 - accuracy: 0.9984 - val_loss: 0.1917 - val_accuracy: 0.9715 - 6s/epoch - 18ms/step\n",
            "Epoch 18/20\n",
            "336/336 - 3s - loss: 0.0035 - accuracy: 0.9988 - val_loss: 0.1652 - val_accuracy: 0.9787 - 3s/epoch - 9ms/step\n",
            "Epoch 19/20\n",
            "336/336 - 3s - loss: 0.0026 - accuracy: 0.9991 - val_loss: 0.1750 - val_accuracy: 0.9789 - 3s/epoch - 8ms/step\n",
            "Epoch 20/20\n",
            "336/336 - 3s - loss: 0.0030 - accuracy: 0.9990 - val_loss: 0.1885 - val_accuracy: 0.9788 - 3s/epoch - 8ms/step\n"
          ]
        },
        {
          "output_type": "display_data",
          "data": {
            "text/plain": [
              "<Figure size 432x288 with 1 Axes>"
            ],
            "image/png": "[encoded data removed]"
          },
          "metadata": {
            "needs_background": "light"
          }
        },
        {
          "output_type": "display_data",
          "data": {
            "text/plain": [
              "<Figure size 432x288 with 1 Axes>"
            ],
            "image/png": "[encoded data removed]"
          },
          "metadata": {
            "needs_background": "light"
          }
        }
      ]
    },
    {
      "cell_type": "code",
      "source": [
        "# Execution time 84 Seconds with RMSProp"
      ],
      "metadata": {
        "id": "K94zxJO_EmE4"
      },
      "execution_count": null,
      "outputs": []
    },
    {
      "cell_type": "code",
      "source": [
        "#Using a 2 layer neural network with:\n",
        "\n",
        "#20 training epochs\n",
        "#A training batch size of 100\n",
        "#Hidden layers set as (300, 100, 100, 200)\n",
        "#Learning rate of 0.1\n",
        "#Achieved a training score of around 94% and a test score of around 93%.\n",
        "\n",
        "#Can we do better if we were to change the optimizer? To find out, we use the Adam optimizer for our second model, while maintaining the same parameter values for all other parameters."
      ],
      "metadata": {
        "id": "3nW6BamSFSLV"
      },
      "execution_count": null,
      "outputs": []
    }
  ]
}